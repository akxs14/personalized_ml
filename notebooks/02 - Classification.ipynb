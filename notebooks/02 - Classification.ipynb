{
 "cells": [
  {
   "cell_type": "code",
   "execution_count": 1,
   "metadata": {
    "collapsed": true
   },
   "outputs": [],
   "source": [
    "##############################################################################\n",
    "#\n",
    "# Workshop: How to develop a personalised machine learning-based application\n",
    "#\n",
    "# Notebook 2: Classification\n",
    "#\n",
    "##############################################################################"
   ]
  },
  {
   "cell_type": "code",
   "execution_count": 2,
   "metadata": {
    "collapsed": true
   },
   "outputs": [],
   "source": [
    "# jupyter notebook instructions:\n",
    "# - Every cell can be executed seperately from the rest.\n",
    "# - You can execute cells in a non-sequential order (but be carefull of \n",
    "#   the dependencies between them).\n",
    "# - Execute a cell by pressing the play button or Shift+Enter."
   ]
  },
  {
   "cell_type": "code",
   "execution_count": 2,
   "metadata": {
    "collapsed": true
   },
   "outputs": [],
   "source": [
    "# Import necessary modules\n",
    "import numpy as np\n",
    "from scipy.optimize import curve_fit\n",
    "import matplotlib.pyplot as plt\n",
    "%matplotlib inline"
   ]
  },
  {
   "cell_type": "code",
   "execution_count": 3,
   "metadata": {
    "collapsed": true
   },
   "outputs": [],
   "source": [
    "# Define a function to model and create data.\n",
    "# The function of this example will be a simple linear equation\n",
    "# of the form f(x) = ax + b\n",
    "def func(x, a, b):\n",
    "    return a * x + b"
   ]
  },
  {
   "cell_type": "code",
   "execution_count": 8,
   "metadata": {
    "collapsed": false
   },
   "outputs": [],
   "source": [
    "# Generate some clean data\n",
    "x = np.linspace(0, 10, 100)\n",
    "y = func(x, 1, 2)"
   ]
  },
  {
   "cell_type": "code",
   "execution_count": 15,
   "metadata": {
    "collapsed": false
   },
   "outputs": [],
   "source": [
    "# Add some noise in the data, in the form of the error factor,\n",
    "# epsilon: f(x) = ax + b + ε\n",
    "y_noisy = y + 0.9 * np.random.normal(size=len(x))"
   ]
  },
  {
   "cell_type": "code",
   "execution_count": 16,
   "metadata": {
    "collapsed": false
   },
   "outputs": [
    {
     "name": "stdout",
     "output_type": "stream",
     "text": [
      "[ 0.99193058  1.98769818]\n"
     ]
    }
   ],
   "source": [
    "# Fit a curve on the noisy data\n",
    "popt, pcov = curve_fit(func, x, y_noisy)\n",
    "print(popt)"
   ]
  },
  {
   "cell_type": "code",
   "execution_count": 17,
   "metadata": {
    "collapsed": false
   },
   "outputs": [],
   "source": [
    "# Assign the coefficients in better named variables\n",
    "a = popt[0]\n",
    "b = popt[1]"
   ]
  },
  {
   "cell_type": "code",
   "execution_count": 19,
   "metadata": {
    "collapsed": true
   },
   "outputs": [],
   "source": [
    "# Calculate the predicted values of y (y hat) for every x\n",
    "y_predicted = [func(xi, a, b) for xi in x]"
   ]
  },
  {
   "cell_type": "code",
   "execution_count": 20,
   "metadata": {
    "collapsed": false,
    "scrolled": true
   },
   "outputs": [
    {
     "data": {
      "image/png": "[encoded data removed]",
      "text/plain": [
       "<matplotlib.figure.Figure at 0x7f29d0ae9350>"
      ]
     },
     "metadata": {},
     "output_type": "display_data"
    }
   ],
   "source": [
    "plt.scatter(x, y_noisy)\n",
    "plt.plot(x, y_predicted )\n",
    "plt.title('Fitting noisy data with a linear equation')\n",
    "plt.show()"
   ]
  },
  {
   "cell_type": "code",
   "execution_count": 21,
   "metadata": {
    "collapsed": true
   },
   "outputs": [],
   "source": [
    "# Let's try the same for a Gaussian profile of a non-linear function\n",
    "#         -(x - μ)^2\n",
    "# a * exp ----------\n",
    "#            2σ^2 \n",
    "#\n",
    "# define the function\n",
    "def func2(x, a, b, c):\n",
    "    return a * np.exp(-(x-b)**2/(2*c**2))"
   ]
  },
  {
   "cell_type": "code",
   "execution_count": 32,
   "metadata": {
    "collapsed": true
   },
   "outputs": [],
   "source": [
    "# Generate some fresh data\n",
    "x2 = np.linspace(0, 10, 100)\n",
    "y2 = func2(x2, 1, 5, 2)"
   ]
  },
  {
   "cell_type": "code",
   "execution_count": 33,
   "metadata": {
    "collapsed": true
   },
   "outputs": [],
   "source": [
    "# Add some noise\n",
    "y_noisy2 = y2 + 0.2 * np.random.normal(size=len(x2))"
   ]
  },
  {
   "cell_type": "code",
   "execution_count": 34,
   "metadata": {
    "collapsed": false
   },
   "outputs": [
    {
     "name": "stdout",
     "output_type": "stream",
     "text": [
      "[ 0.98744542  5.07830082 -2.10049409]\n"
     ]
    }
   ],
   "source": [
    "# Fit the curve\n",
    "popt2, pcov2 = curve_fit(func2, x2, y_noisy2)\n",
    "print(popt2)"
   ]
  },
  {
   "cell_type": "code",
   "execution_count": 43,
   "metadata": {
    "collapsed": false
   },
   "outputs": [],
   "source": [
    "# Assign the coefficients in better named variables\n",
    "a2 = popt2[0]\n",
    "b2 = popt2[1]\n",
    "c2 = popt2[2]"
   ]
  },
  {
   "cell_type": "code",
   "execution_count": 44,
   "metadata": {
    "collapsed": false
   },
   "outputs": [],
   "source": [
    "# Calculate the predicted values of y (y hat) for every x\n",
    "y_predicted2 = [func2(xi, a2, b2, c2) for xi in x2]"
   ]
  },
  {
   "cell_type": "code",
   "execution_count": 45,
   "metadata": {
    "collapsed": false
   },
   "outputs": [
    {
     "data": {
      "image/png": "[encoded data removed]",
      "text/plain": [
       "<matplotlib.figure.Figure at 0x7f29d07dc710>"
      ]
     },
     "metadata": {},
     "output_type": "display_data"
    }
   ],
   "source": [
    "plt.scatter(x2, y_noisy2)\n",
    "plt.plot(x2, y_predicted2 )\n",
    "plt.title('Fitting noisy data with a linear equation')\n",
    "plt.show()"
   ]
  },
  {
   "cell_type": "code",
   "execution_count": null,
   "metadata": {
    "collapsed": true
   },
   "outputs": [],
   "source": []
  }
 ],
 "metadata": {
  "kernelspec": {
   "display_name": "Python 2",
   "language": "python",
   "name": "python2"
  },
  "language_info": {
   "codemirror_mode": {
    "name": "ipython",
    "version": 2
   },
   "file_extension": ".py",
   "mimetype": "text/x-python",
   "name": "python",
   "nbconvert_exporter": "python",
   "pygments_lexer": "ipython2",
   "version": "2.7.11"
  }
 },
 "nbformat": 4,
 "nbformat_minor": 0
}
