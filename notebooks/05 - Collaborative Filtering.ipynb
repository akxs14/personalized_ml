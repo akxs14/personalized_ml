{
 "cells": [
  {
   "cell_type": "code",
   "execution_count": 1,
   "metadata": {
    "collapsed": true
   },
   "outputs": [],
   "source": [
    "##############################################################################\n",
    "#\n",
    "# Workshop: How to develop a personalised machine learning-based application\n",
    "#\n",
    "# Notebook 2: Classification\n",
    "#\n",
    "##############################################################################"
   ]
  },
  {
   "cell_type": "code",
   "execution_count": 2,
   "metadata": {
    "collapsed": true
   },
   "outputs": [],
   "source": [
    "# jupyter notebook instructions:\n",
    "# - Every cell can be executed seperately from the rest.\n",
    "# - You can execute cells in a non-sequential order (but be carefull of \n",
    "#   the dependencies between them).\n",
    "# - Execute a cell by pressing the play button or Shift+Enter."
   ]
  },
  {
   "cell_type": "code",
   "execution_count": 8,
   "metadata": {
    "collapsed": true
   },
   "outputs": [],
   "source": [
    "# Import necessary modules\n",
    "import pandas as pd\n",
    "import numpy as np\n",
    "import json\n",
    "from scipy.stats.stats import pearsonr"
   ]
  },
  {
   "cell_type": "code",
   "execution_count": 3,
   "metadata": {
    "collapsed": false
   },
   "outputs": [
    {
     "name": "stdout",
     "output_type": "stream",
     "text": [
      "Ingested 383852 rows\n"
     ]
    }
   ],
   "source": [
    "# Load the data from the csv file to a pandas dataframe\n",
    "books_df = pd.read_csv(\"../data/data_books.csv\", sep=\",\", header=None,\n",
    "                      names=['Reviewer', 'Book', 'Rating'])\n",
    "\n",
    "print(\"Ingested %d rows\" % len(books_df))"
   ]
  },
  {
   "cell_type": "code",
   "execution_count": 4,
   "metadata": {
    "collapsed": false
   },
   "outputs": [
    {
     "data": {
      "text/html": [
       "<div>\n",
       "<table border=\"1\" class=\"dataframe\">\n",
       "  <thead>\n",
       "    <tr style=\"text-align: right;\">\n",
       "      <th></th>\n",
       "      <th>Reviewer</th>\n",
       "      <th>Book</th>\n",
       "      <th>Rating</th>\n",
       "    </tr>\n",
       "  </thead>\n",
       "  <tbody>\n",
       "    <tr>\n",
       "      <th>0</th>\n",
       "      <td>276726</td>\n",
       "      <td>Rites of Passage</td>\n",
       "      <td>5</td>\n",
       "    </tr>\n",
       "    <tr>\n",
       "      <th>1</th>\n",
       "      <td>276729</td>\n",
       "      <td>Help!: Level 1</td>\n",
       "      <td>3</td>\n",
       "    </tr>\n",
       "    <tr>\n",
       "      <th>2</th>\n",
       "      <td>276729</td>\n",
       "      <td>The Amsterdam Connection : Level 4 (Cambridge ...</td>\n",
       "      <td>6</td>\n",
       "    </tr>\n",
       "    <tr>\n",
       "      <th>3</th>\n",
       "      <td>276744</td>\n",
       "      <td>A Painted House</td>\n",
       "      <td>7</td>\n",
       "    </tr>\n",
       "    <tr>\n",
       "      <th>4</th>\n",
       "      <td>276747</td>\n",
       "      <td>Little Altars Everywhere</td>\n",
       "      <td>9</td>\n",
       "    </tr>\n",
       "  </tbody>\n",
       "</table>\n",
       "</div>"
      ],
      "text/plain": [
       "   Reviewer                                               Book  Rating\n",
       "0    276726                                   Rites of Passage       5\n",
       "1    276729                                     Help!: Level 1       3\n",
       "2    276729  The Amsterdam Connection : Level 4 (Cambridge ...       6\n",
       "3    276744                                    A Painted House       7\n",
       "4    276747                           Little Altars Everywhere       9"
      ]
     },
     "execution_count": 4,
     "metadata": {},
     "output_type": "execute_result"
    }
   ],
   "source": [
    "# Let's have a look inside the dataframe\n",
    "books_df.head()"
   ]
  },
  {
   "cell_type": "code",
   "execution_count": 5,
   "metadata": {
    "collapsed": false,
    "scrolled": true
   },
   "outputs": [
    {
     "data": {
      "text/plain": [
       "The Lovely Bones: A Novel                                           707\n",
       "Wild Animus                                                         581\n",
       "The Da Vinci Code                                                   494\n",
       "The Secret Life of Bees                                             406\n",
       "The Nanny Diaries: A Novel                                          393\n",
       "The Red Tent (Bestselling Backlist)                                 383\n",
       "Bridget Jones's Diary                                               377\n",
       "A Painted House                                                     366\n",
       "Life of Pi                                                          336\n",
       "Harry Potter and the Chamber of Secrets (Book 2)                    326\n",
       "Divine Secrets of the Ya-Ya Sisterhood: A Novel                     323\n",
       "Angels &amp                                                         317\n",
       "Harry Potter and the Sorcerer's Stone (Harry Potter (Paperback))    315\n",
       "The Summons                                                         309\n",
       "Where the Heart Is (Oprah's Book Club (Paperback))                  295\n",
       "The Notebook                                                        293\n",
       "Girl with a Pearl Earring                                           278\n",
       "Harry Potter and the Prisoner of Azkaban (Book 3)                   277\n",
       "Snow Falling on Cedars                                              275\n",
       "The Pilot's Wife : A Novel                                          272\n",
       "Name: Book, dtype: int64"
      ]
     },
     "execution_count": 5,
     "metadata": {},
     "output_type": "execute_result"
    }
   ],
   "source": [
    "# Find the Top-20 most reviewed books\n",
    "top20_books = pd.value_counts(books_df.Book)\n",
    "top20_books.head(20)"
   ]
  },
  {
   "cell_type": "code",
   "execution_count": 6,
   "metadata": {
    "collapsed": false
   },
   "outputs": [
    {
     "data": {
      "text/plain": [
       "11676     6943\n",
       "98391     5691\n",
       "189835    1899\n",
       "153662    1845\n",
       "23902     1180\n",
       "235105    1020\n",
       "76499     1012\n",
       "171118     962\n",
       "16795      959\n",
       "248718     941\n",
       "56399      838\n",
       "197659     781\n",
       "35859      777\n",
       "185233     698\n",
       "95359      606\n",
       "114368     603\n",
       "158295     567\n",
       "101851     563\n",
       "177458     524\n",
       "204864     504\n",
       "Name: Reviewer, dtype: int64"
      ]
     },
     "execution_count": 6,
     "metadata": {},
     "output_type": "execute_result"
    }
   ],
   "source": [
    "# And the Top 20 reviewers\n",
    "top20_reviewers = pd.value_counts(books_df.Reviewer)\n",
    "top20_reviewers.head(20)"
   ]
  },
  {
   "cell_type": "code",
   "execution_count": 16,
   "metadata": {
    "collapsed": true
   },
   "outputs": [],
   "source": [
    "# Select 2 books as our sample\n",
    "book1 = \"The Lovely Bones: A Novel\"\n",
    "book2 = \"Wild Animus\"\n",
    "book3 = \"The Da Vinci Code\"\n",
    "\n",
    "# Retrieve all reviewers\n",
    "book1_reviewers = books_df[books_df.Book == book1].Reviewer\n",
    "book2_reviewers = books_df[books_df.Book == book2].Reviewer\n",
    "book3_reviewers = books_df[books_df.Book == book3].Reviewer"
   ]
  },
  {
   "cell_type": "code",
   "execution_count": 23,
   "metadata": {
    "collapsed": false
   },
   "outputs": [
    {
     "name": "stdout",
     "output_type": "stream",
     "text": [
      "Corr of The Lovely Bones: A Novel and Wild Animus: -0.288043667368\n",
      "Corr of The Lovely Bones: A Novel and The Da Vinci Code: 0.0171094811196\n",
      "Corr of Wild Animus and Wild Animus: -0.580228328508\n"
     ]
    }
   ],
   "source": [
    "def get_book_reviews(title, common_reviewers):\n",
    "    \"Collect the reviews of the common reviewers\"\n",
    "    mask = (books_df.Reviewer.isin(common_reviewers)) & (books_df.Book==title)\n",
    "    reviews = books_df[mask].sort_values('Reviewer')\n",
    "    reviews = reviews[reviews.Reviewer.duplicated()==False]\n",
    "    return reviews\n",
    "\n",
    "\n",
    "def calculate_correlation(book1, book2):\n",
    "    # We start by finding the common reviewers\n",
    "    book1_reviewers = books_df[books_df.Book == book1].Reviewer\n",
    "    book2_reviewers = books_df[books_df.Book == book2].Reviewer\n",
    "    common_reviewers = set(book1_reviewers).intersection(book2_reviewers)\n",
    "\n",
    "    # Then we look for the reviews given by common reviewers\n",
    "    book1_reviews = get_book_reviews(book1, common_reviewers)\n",
    "    book2_reviews = get_book_reviews(book2, common_reviewers)\n",
    "    \n",
    "    # Calculate the Pearson Correlation Score\n",
    "    return pearsonr(book1_reviews.Rating, book2_reviews.Rating)[0]\n",
    "\n",
    "# Print the correlation score between the 3 books\n",
    "print(\"Corr of \" + str(book1) + \" and \"  + str(book2) + \": \" + str(calculate_correlation(book1,book2)))\n",
    "print(\"Corr of \" + str(book1) + \" and \"  + str(book3) + \": \" + str(calculate_correlation(book1,book3)))\n",
    "print(\"Corr of \" + str(book2) + \" and \"  + str(book2) + \": \" + str(calculate_correlation(book2,book3)))"
   ]
  },
  {
   "cell_type": "code",
   "execution_count": 24,
   "metadata": {
    "collapsed": false
   },
   "outputs": [],
   "source": [
    "# ????????????????\n",
    "# There is negative or very low positive correlation between the 3 most\n",
    "# reviewed books. We better try something that looks more similar.\n",
    "# For instance, Harry Potter"
   ]
  },
  {
   "cell_type": "code",
   "execution_count": 25,
   "metadata": {
    "collapsed": false
   },
   "outputs": [
    {
     "name": "stdout",
     "output_type": "stream",
     "text": [
      "Corr of Harry Potter and the Sorcerer's Stone (Harry Potter (Paperback)) and Harry Potter and the Chamber of Secrets (Book 2): 0.869647366453\n",
      "Corr of Harry Potter and the Sorcerer's Stone (Harry Potter (Paperback)) and Harry Potter and the Prisoner of Azkaban (Book 3): 0.347525189982\n",
      "Corr of Harry Potter and the Chamber of Secrets (Book 2) and Harry Potter and the Prisoner of Azkaban (Book 3): 0.614027793363\n"
     ]
    }
   ],
   "source": [
    "# Select 2 books as our sample\n",
    "book4 = \"Harry Potter and the Sorcerer's Stone (Harry Potter (Paperback))\"\n",
    "book5 = \"Harry Potter and the Chamber of Secrets (Book 2)\"\n",
    "book6 = \"Harry Potter and the Prisoner of Azkaban (Book 3)\"\n",
    "\n",
    "# Retrieve all reviewers\n",
    "book4_reviewers = books_df[books_df.Book == book4].Reviewer\n",
    "book5_reviewers = books_df[books_df.Book == book5].Reviewer\n",
    "book6_reviewers = books_df[books_df.Book == book6].Reviewer\n",
    "\n",
    "print(\"Corr of \" + str(book4) + \" and \"  + str(book5) + \": \" + str(calculate_correlation(book4,book5)))\n",
    "print(\"Corr of \" + str(book4) + \" and \"  + str(book6) + \": \" + str(calculate_correlation(book4,book6)))\n",
    "print(\"Corr of \" + str(book5) + \" and \"  + str(book6) + \": \" + str(calculate_correlation(book5,book6)))"
   ]
  },
  {
   "cell_type": "code",
   "execution_count": null,
   "metadata": {
    "collapsed": true
   },
   "outputs": [],
   "source": [
    "# Aha!\n",
    "# The higher the correlation, the most likely the reviewers of\n",
    "# one book will like another book with high correlation."
   ]
  },
  {
   "cell_type": "code",
   "execution_count": null,
   "metadata": {
    "collapsed": false
   },
   "outputs": [],
   "source": []
  },
  {
   "cell_type": "code",
   "execution_count": null,
   "metadata": {
    "collapsed": false
   },
   "outputs": [],
   "source": []
  },
  {
   "cell_type": "code",
   "execution_count": null,
   "metadata": {
    "collapsed": false
   },
   "outputs": [],
   "source": []
  },
  {
   "cell_type": "code",
   "execution_count": null,
   "metadata": {
    "collapsed": false
   },
   "outputs": [],
   "source": []
  },
  {
   "cell_type": "code",
   "execution_count": null,
   "metadata": {
    "collapsed": true
   },
   "outputs": [],
   "source": []
  }
 ],
 "metadata": {
  "kernelspec": {
   "display_name": "Python [Root]",
   "language": "python",
   "name": "Python [Root]"
  },
  "language_info": {
   "codemirror_mode": {
    "name": "ipython",
    "version": 2
   },
   "file_extension": ".py",
   "mimetype": "text/x-python",
   "name": "python",
   "nbconvert_exporter": "python",
   "pygments_lexer": "ipython2",
   "version": "2.7.11"
  }
 },
 "nbformat": 4,
 "nbformat_minor": 0
}
