{
 "cells": [
  {
   "cell_type": "code",
   "execution_count": 3,
   "metadata": {
    "collapsed": true
   },
   "outputs": [],
   "source": [
    "import numpy as np\n",
    "np.random.seed(1)\n",
    "weights = 2 * np.random.random((3, 1)) -1\n",
    "\n",
    "def sigmoid(z): return (1/(1 + np.e**(-z)))\n",
    "def sigmoid_dz(z): return (z*(1 - z))\n",
    "def predict(W, X): return sigmoid(np.dot(X, W))\n",
    "def train(Tin, Tout, w, n):\n",
    "    for i in xrange(n):\n",
    "        output = sigmoid(np.dot(Tin, w))\n",
    "        w += np.dot(Tin.T, (Tout - output) * sigmoid_dz(output))      \n",
    "    return w"
   ]
  },
  {
   "cell_type": "code",
   "execution_count": 4,
   "metadata": {
    "collapsed": true
   },
   "outputs": [],
   "source": [
    "training_set_X = np.array([[0,0,1], [1,1,1], [1,0,1], [0,1,1]])\n",
    "training_set_y = np.array([[0, 1, 1, 0]]).T\n",
    "weights = train(training_set_X, training_set_y, weights, 10000)"
   ]
  },
  {
   "cell_type": "code",
   "execution_count": 19,
   "metadata": {
    "collapsed": false
   },
   "outputs": [
    {
     "name": "stdout",
     "output_type": "stream",
     "text": [
      "[1, 0, 0] =  0.999968966337 \n"
     ]
    }
   ],
   "source": [
    "print \"[1, 0, 0] =  %s \" % predict(weights, np.array([1, 0, 0]))[0]"
   ]
  }
 ],
 "metadata": {
  "kernelspec": {
   "display_name": "Python 2",
   "language": "python",
   "name": "python2"
  },
  "language_info": {
   "codemirror_mode": {
    "name": "ipython",
    "version": 2
   },
   "file_extension": ".py",
   "mimetype": "text/x-python",
   "name": "python",
   "nbconvert_exporter": "python",
   "pygments_lexer": "ipython2",
   "version": "2.7.11"
  }
 },
 "nbformat": 4,
 "nbformat_minor": 0
}
