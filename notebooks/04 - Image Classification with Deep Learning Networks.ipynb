{
 "cells": [
  {
   "cell_type": "code",
   "execution_count": 1,
   "metadata": {
    "collapsed": true
   },
   "outputs": [],
   "source": [
    "##############################################################################\n",
    "#\n",
    "# Workshop: How to develop a personalised machine learning-based application\n",
    "#\n",
    "# Notebook 4: Image Classification with Deep Learning Networks\n",
    "#\n",
    "##############################################################################"
   ]
  },
  {
   "cell_type": "code",
   "execution_count": 1,
   "metadata": {
    "collapsed": true
   },
   "outputs": [],
   "source": [
    "# jupyter notebook instructions:\n",
    "# - Every cell can be executed seperately from the rest.\n",
    "# - You can execute cells in a non-sequential order (but be carefull of \n",
    "#   the dependencies between them).\n",
    "# - Execute a cell by pressing the play button or Shift+Enter."
   ]
  },
  {
   "cell_type": "code",
   "execution_count": 2,
   "metadata": {
    "collapsed": true
   },
   "outputs": [],
   "source": [
    "# You can play with a mini deep learning model with Tensorflow's characteristics in the following URL\n",
    "# http://playground.tensorflow.org"
   ]
  },
  {
   "cell_type": "code",
   "execution_count": 4,
   "metadata": {
    "collapsed": false
   },
   "outputs": [],
   "source": [
    "# Import necessary modules\n",
    "import numpy as np\n",
    "\n",
    "from keras.preprocessing.image import ImageDataGenerator\n",
    "from keras.preprocessing.image import array_to_img, img_to_array\n",
    "from keras.preprocessing.image import load_img\n",
    "\n",
    "from keras.preprocessing.image import ImageDataGenerator\n",
    "from keras.models import Sequential\n",
    "from keras.layers import Convolution2D, MaxPooling2D\n",
    "from keras.layers import Activation, Dropout, Flatten, Dense"
   ]
  },
  {
   "cell_type": "code",
   "execution_count": 14,
   "metadata": {
    "collapsed": false
   },
   "outputs": [],
   "source": [
    "# dimensions of our images.\n",
    "img_width, img_height = 150, 150\n",
    "\n",
    "train_data_dir = '../data/catsanddogs/train/'\n",
    "validation_data_dir = '../data/catsanddogs/validation/'\n",
    "nb_train_samples = 2000\n",
    "nb_validation_samples = 100\n",
    "nb_epoch = 50"
   ]
  },
  {
   "cell_type": "code",
   "execution_count": 15,
   "metadata": {
    "collapsed": false
   },
   "outputs": [],
   "source": [
    "# Specify the model's structure\n",
    "model = Sequential()\n",
    "model.add(Convolution2D(32, 3, 3, input_shape=(3, img_width, img_height)))\n",
    "model.add(Activation('relu'))\n",
    "model.add(MaxPooling2D(pool_size=(2, 2)))\n",
    "\n",
    "model.add(Convolution2D(32, 3, 3))\n",
    "model.add(Activation('relu'))\n",
    "model.add(MaxPooling2D(pool_size=(2, 2)))\n",
    "\n",
    "model.add(Convolution2D(64, 3, 3))\n",
    "model.add(Activation('relu'))\n",
    "model.add(MaxPooling2D(pool_size=(2, 2)))\n",
    "\n",
    "model.add(Flatten())\n",
    "model.add(Dense(64))\n",
    "model.add(Activation('relu'))\n",
    "model.add(Dropout(0.5))\n",
    "model.add(Dense(1))\n",
    "model.add(Activation('sigmoid'))"
   ]
  },
  {
   "cell_type": "code",
   "execution_count": 16,
   "metadata": {
    "collapsed": false
   },
   "outputs": [
    {
     "name": "stdout",
     "output_type": "stream",
     "text": [
      "Found 2000 images belonging to 2 classes.\n",
      "Found 800 images belonging to 2 classes.\n"
     ]
    }
   ],
   "source": [
    "model.compile(loss='binary_crossentropy',\n",
    "              optimizer='rmsprop',\n",
    "              metrics=['accuracy'])\n",
    "\n",
    "# this is the augmentation configuration we will use for training\n",
    "train_datagen = ImageDataGenerator(\n",
    "        rescale=1./255,\n",
    "        shear_range=0.2,\n",
    "        zoom_range=0.2,\n",
    "        horizontal_flip=True)\n",
    "\n",
    "# this is the augmentation configuration we will use for testing:\n",
    "# only rescaling\n",
    "test_datagen = ImageDataGenerator(rescale=1./255)\n",
    "\n",
    "train_generator = train_datagen.flow_from_directory(\n",
    "        train_data_dir,\n",
    "        target_size=(img_width, img_height),\n",
    "        batch_size=32,\n",
    "        class_mode='binary')\n",
    "\n",
    "validation_generator = test_datagen.flow_from_directory(\n",
    "        validation_data_dir,\n",
    "        target_size=(img_width, img_height),\n",
    "        batch_size=32,\n",
    "        class_mode='binary')"
   ]
  },
  {
   "cell_type": "code",
   "execution_count": 17,
   "metadata": {
    "collapsed": false,
    "scrolled": true
   },
   "outputs": [
    {
     "name": "stdout",
     "output_type": "stream",
     "text": [
      "Epoch 1/50\n",
      "2000/2000 [==============================] - 77s - loss: 0.7115 - acc: 0.5040 - val_loss: 0.6855 - val_acc: 0.6328\n",
      "Epoch 2/50\n",
      "2000/2000 [==============================] - 76s - loss: 0.6848 - acc: 0.5715 - val_loss: 0.6706 - val_acc: 0.5703\n",
      "Epoch 3/50\n",
      "2000/2000 [==============================] - 76s - loss: 0.6547 - acc: 0.6170 - val_loss: 0.6324 - val_acc: 0.6719\n",
      "Epoch 4/50\n",
      "2000/2000 [==============================] - 77s - loss: 0.6332 - acc: 0.6555 - val_loss: 0.5828 - val_acc: 0.7109\n",
      "Epoch 5/50\n",
      "2000/2000 [==============================] - 77s - loss: 0.5977 - acc: 0.6905 - val_loss: 0.5850 - val_acc: 0.7266\n",
      "Epoch 6/50\n",
      "2000/2000 [==============================] - 77s - loss: 0.5916 - acc: 0.6935 - val_loss: 0.8845 - val_acc: 0.5625\n",
      "Epoch 7/50\n",
      "2000/2000 [==============================] - 77s - loss: 0.5745 - acc: 0.7070 - val_loss: 0.6510 - val_acc: 0.6484\n",
      "Epoch 8/50\n",
      "2000/2000 [==============================] - 78s - loss: 0.5496 - acc: 0.7185 - val_loss: 0.5336 - val_acc: 0.7344\n",
      "Epoch 9/50\n",
      "2000/2000 [==============================] - 77s - loss: 0.5508 - acc: 0.7275 - val_loss: 0.5470 - val_acc: 0.7031\n",
      "Epoch 10/50\n",
      "2000/2000 [==============================] - 77s - loss: 0.5442 - acc: 0.7365 - val_loss: 0.5891 - val_acc: 0.7109\n",
      "Epoch 11/50\n",
      "2000/2000 [==============================] - 78s - loss: 0.5243 - acc: 0.7395 - val_loss: 0.6157 - val_acc: 0.6719\n",
      "Epoch 12/50\n",
      "2000/2000 [==============================] - 79s - loss: 0.5247 - acc: 0.7480 - val_loss: 0.6219 - val_acc: 0.6562\n",
      "Epoch 13/50\n",
      "2000/2000 [==============================] - 79s - loss: 0.5020 - acc: 0.7535 - val_loss: 0.5419 - val_acc: 0.6797\n",
      "Epoch 14/50\n",
      "2000/2000 [==============================] - 79s - loss: 0.4918 - acc: 0.7675 - val_loss: 0.4964 - val_acc: 0.7969\n",
      "Epoch 15/50\n",
      "2000/2000 [==============================] - 80s - loss: 0.4826 - acc: 0.7705 - val_loss: 0.4766 - val_acc: 0.7969\n",
      "Epoch 16/50\n",
      "2000/2000 [==============================] - 79s - loss: 0.4865 - acc: 0.7690 - val_loss: 0.5431 - val_acc: 0.7422\n",
      "Epoch 17/50\n",
      "2000/2000 [==============================] - 80s - loss: 0.4621 - acc: 0.7825 - val_loss: 0.6426 - val_acc: 0.7578\n",
      "Epoch 18/50\n",
      "2000/2000 [==============================] - 81s - loss: 0.4576 - acc: 0.7885 - val_loss: 0.4237 - val_acc: 0.7734\n",
      "Epoch 19/50\n",
      "2000/2000 [==============================] - 81s - loss: 0.4490 - acc: 0.7980 - val_loss: 0.3893 - val_acc: 0.8438\n",
      "Epoch 20/50\n",
      "2000/2000 [==============================] - 80s - loss: 0.4417 - acc: 0.8045 - val_loss: 0.4938 - val_acc: 0.7344\n",
      "Epoch 21/50\n",
      "2000/2000 [==============================] - 80s - loss: 0.4371 - acc: 0.7975 - val_loss: 0.5098 - val_acc: 0.7656\n",
      "Epoch 22/50\n",
      "2000/2000 [==============================] - 80s - loss: 0.4254 - acc: 0.8080 - val_loss: 0.6611 - val_acc: 0.7578\n",
      "Epoch 23/50\n",
      "2000/2000 [==============================] - 80s - loss: 0.4168 - acc: 0.8085 - val_loss: 0.4493 - val_acc: 0.7812\n",
      "Epoch 24/50\n",
      "2000/2000 [==============================] - 80s - loss: 0.4184 - acc: 0.8080 - val_loss: 0.4377 - val_acc: 0.8359\n",
      "Epoch 25/50\n",
      "2000/2000 [==============================] - 80s - loss: 0.4178 - acc: 0.8120 - val_loss: 0.4217 - val_acc: 0.8047\n",
      "Epoch 26/50\n",
      "2000/2000 [==============================] - 80s - loss: 0.4316 - acc: 0.8070 - val_loss: 0.6632 - val_acc: 0.7500\n",
      "Epoch 27/50\n",
      "2000/2000 [==============================] - 80s - loss: 0.4270 - acc: 0.8240 - val_loss: 0.6157 - val_acc: 0.7500\n",
      "Epoch 28/50\n",
      "2000/2000 [==============================] - 80s - loss: 0.3823 - acc: 0.8305 - val_loss: 0.3989 - val_acc: 0.8047\n",
      "Epoch 29/50\n",
      "2000/2000 [==============================] - 80s - loss: 0.3869 - acc: 0.8255 - val_loss: 0.4857 - val_acc: 0.8359\n",
      "Epoch 30/50\n",
      "2000/2000 [==============================] - 81s - loss: 0.3758 - acc: 0.8360 - val_loss: 0.4571 - val_acc: 0.7734\n",
      "Epoch 31/50\n",
      "2000/2000 [==============================] - 81s - loss: 0.4147 - acc: 0.8225 - val_loss: 0.5811 - val_acc: 0.7188\n",
      "Epoch 32/50\n",
      "2000/2000 [==============================] - 80s - loss: 0.3863 - acc: 0.8315 - val_loss: 0.6059 - val_acc: 0.7578\n",
      "Epoch 33/50\n",
      "2000/2000 [==============================] - 80s - loss: 0.3804 - acc: 0.8410 - val_loss: 0.4127 - val_acc: 0.7656\n",
      "Epoch 34/50\n",
      "2000/2000 [==============================] - 80s - loss: 0.3891 - acc: 0.8250 - val_loss: 0.4479 - val_acc: 0.7969\n",
      "Epoch 35/50\n",
      "2000/2000 [==============================] - 80s - loss: 0.3613 - acc: 0.8420 - val_loss: 0.5466 - val_acc: 0.7891\n",
      "Epoch 36/50\n",
      "2000/2000 [==============================] - 80s - loss: 0.3995 - acc: 0.8235 - val_loss: 0.6275 - val_acc: 0.7656\n",
      "Epoch 37/50\n",
      "2000/2000 [==============================] - 80s - loss: 0.3534 - acc: 0.8515 - val_loss: 0.7073 - val_acc: 0.7812\n",
      "Epoch 38/50\n",
      "2000/2000 [==============================] - 80s - loss: 0.3650 - acc: 0.8435 - val_loss: 0.3808 - val_acc: 0.8047\n",
      "Epoch 39/50\n",
      "2000/2000 [==============================] - 81s - loss: 0.3793 - acc: 0.8420 - val_loss: 0.4568 - val_acc: 0.8125\n",
      "Epoch 40/50\n",
      "2000/2000 [==============================] - 80s - loss: 0.3427 - acc: 0.8420 - val_loss: 0.3798 - val_acc: 0.7891\n",
      "Epoch 41/50\n",
      "2000/2000 [==============================] - 80s - loss: 0.3669 - acc: 0.8445 - val_loss: 1.1931 - val_acc: 0.6797\n",
      "Epoch 42/50\n",
      "2000/2000 [==============================] - 80s - loss: 0.3802 - acc: 0.8320 - val_loss: 0.8047 - val_acc: 0.7188\n",
      "Epoch 43/50\n",
      "2000/2000 [==============================] - 81s - loss: 0.3256 - acc: 0.8575 - val_loss: 0.4321 - val_acc: 0.8047\n",
      "Epoch 44/50\n",
      "2000/2000 [==============================] - 79s - loss: 0.3299 - acc: 0.8570 - val_loss: 0.4672 - val_acc: 0.8438\n",
      "Epoch 45/50\n",
      "2000/2000 [==============================] - 80s - loss: 0.3383 - acc: 0.8510 - val_loss: 0.5386 - val_acc: 0.7969\n",
      "Epoch 46/50\n",
      "2000/2000 [==============================] - 79s - loss: 0.3497 - acc: 0.8615 - val_loss: 1.0127 - val_acc: 0.7188\n",
      "Epoch 47/50\n",
      "2000/2000 [==============================] - 79s - loss: 0.3421 - acc: 0.8565 - val_loss: 0.7045 - val_acc: 0.6562\n",
      "Epoch 48/50\n",
      "2000/2000 [==============================] - 79s - loss: 0.3362 - acc: 0.8515 - val_loss: 0.6270 - val_acc: 0.7812\n",
      "Epoch 49/50\n",
      "2000/2000 [==============================] - 79s - loss: 0.3592 - acc: 0.8420 - val_loss: 0.4948 - val_acc: 0.7812\n",
      "Epoch 50/50\n",
      "2000/2000 [==============================] - 79s - loss: 0.3228 - acc: 0.8650 - val_loss: 0.4144 - val_acc: 0.7969\n"
     ]
    }
   ],
   "source": [
    "model.fit_generator(\n",
    "        train_generator,\n",
    "        samples_per_epoch=nb_train_samples,\n",
    "        nb_epoch=nb_epoch,\n",
    "        validation_data=validation_generator,\n",
    "        nb_val_samples=nb_validation_samples)\n",
    "\n",
    "model.save_weights('cats_dogs.h5')"
   ]
  },
  {
   "cell_type": "code",
   "execution_count": 31,
   "metadata": {
    "collapsed": false
   },
   "outputs": [],
   "source": [
    "img1 = load_img(\"../data/catsanddogs/test/resize-3.jpg\")\n",
    "x = img_to_array(img1)\n",
    "x = x.reshape((1,) + x.shape)"
   ]
  },
  {
   "cell_type": "code",
   "execution_count": 43,
   "metadata": {
    "collapsed": false
   },
   "outputs": [
    {
     "name": "stdout",
     "output_type": "stream",
     "text": [
      "[[0]]\n"
     ]
    }
   ],
   "source": [
    "print model.predict_classes(x, batch_size=1, verbose=0)"
   ]
  },
  {
   "cell_type": "code",
   "execution_count": 47,
   "metadata": {
    "collapsed": false
   },
   "outputs": [
    {
     "name": "stdout",
     "output_type": "stream",
     "text": [
      "1/1 [==============================] - 0s\n",
      "[[ 0.]]\n"
     ]
    }
   ],
   "source": [
    "img2 = load_img(\"../data/catsanddogs/test/11.jpg\")\n",
    "x = img_to_array(img1)\n",
    "x = x.reshape((1,) + x.shape)\n",
    "print model.predict(x, batch_size=1, verbose=1)"
   ]
  },
  {
   "cell_type": "code",
   "execution_count": null,
   "metadata": {
    "collapsed": true
   },
   "outputs": [],
   "source": []
  }
 ],
 "metadata": {
  "kernelspec": {
   "display_name": "Python [Root]",
   "language": "python",
   "name": "Python [Root]"
  },
  "language_info": {
   "codemirror_mode": {
    "name": "ipython",
    "version": 2
   },
   "file_extension": ".py",
   "mimetype": "text/x-python",
   "name": "python",
   "nbconvert_exporter": "python",
   "pygments_lexer": "ipython2",
   "version": "2.7.11"
  }
 },
 "nbformat": 4,
 "nbformat_minor": 0
}
